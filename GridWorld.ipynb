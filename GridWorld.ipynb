{
  "nbformat": 4,
  "nbformat_minor": 0,
  "metadata": {
    "colab": {
      "name": "Copia de GridWorld.ipynb",
      "provenance": [],
      "collapsed_sections": [],
      "include_colab_link": true
    },
    "kernelspec": {
      "display_name": "Python 3",
      "name": "python3"
    }
  },
  "cells": [
    {
      "cell_type": "markdown",
      "metadata": {
        "id": "view-in-github",
        "colab_type": "text"
      },
      "source": [
        "<a href=\"https://colab.research.google.com/github/DanileRond/ARAP/blob/main/GridWorld.ipynb\" target=\"_parent\"><img src=\"https://colab.research.google.com/assets/colab-badge.svg\" alt=\"Open In Colab\"/></a>"
      ]
    },
    {
      "cell_type": "markdown",
      "metadata": {
        "id": "0Tdlo7SK8ZdT"
      },
      "source": [
        "## Colab Notebook created for ARAP module at UPC ETSETB.\n",
        "\n",
        "Authors: Juan José Nieto, Josep Vidal, Margarita Cabrera-Bean"
      ]
    },
    {
      "cell_type": "markdown",
      "metadata": {
        "id": "kQESq6dqoo-N"
      },
      "source": [
        "# GRID WORLD"
      ]
    },
    {
      "cell_type": "markdown",
      "metadata": {
        "id": "6nrr6nf3yDAz"
      },
      "source": [
        "## Complete the TODOs you'll find:\n",
        "\n",
        "\n",
        "1.  Initiate the variable POLICY p(s'|a,s).\n",
        "2.  Initiate the corresponding rewards in *next_position* function.\n",
        "3.  Compute the reward vector and the transition probability matrix.\n",
        "4.  Compute Bellman Equation\n",
        "-------------------------------------------------\n",
        "5.  Compute update of the state value\n",
        "6.  Program Policy Iteration Algorithm\n",
        "7.  Program Value Iteration Algorithm\n",
        "\n",
        "\n",
        "\n",
        "\n"
      ]
    },
    {
      "cell_type": "code",
      "metadata": {
        "id": "RfmWXOV5pVR1"
      },
      "source": [
        "import numpy as np\n",
        "import seaborn as sns\n",
        "\n",
        "from random import random\n",
        "import matplotlib.pyplot as plt"
      ],
      "execution_count": null,
      "outputs": []
    },
    {
      "cell_type": "code",
      "metadata": {
        "id": "ahQSmXlQgFr-"
      },
      "source": [
        "class Grid():\n",
        "    def __init__(self):\n",
        "        self.N_ROWS = 5\n",
        "        self.N_COLUMNS = 5\n",
        "        self.N_STATES = self.N_ROWS * self.N_COLUMNS\n",
        "\n",
        "        self.GAMMA = 0.9\n",
        "        self.ZETA_MAX = 1e-3\n",
        "        self.ITER_MAX = 300\n",
        "        \n",
        "        self.ACTIONS = [(0, -1), (1, 0), (0, 1), (-1, 0)]\n",
        "        self.N_ACTIONS = 4\n",
        "        \n",
        "        # 1.TODO: Initialize with equal probability for each action in each state\n",
        "        self.POLICY = np.full(fill_value = 1. / self.N_ACTIONS, shape = (self.N_STATES, self.N_ACTIONS))\n",
        "        \n",
        "\n",
        "        self.SPC_STATES = [(6, 10, 10), (16, 18, 5)] # (ini state, fin state, reward)\n",
        "\n",
        "        self.TrPrM = np.zeros((self.N_STATES, self.N_STATES))\n",
        "        self.V_FUNCTION = np.zeros(self.N_STATES)\n",
        "        self.REWARD = np.zeros(self.N_STATES)\n",
        "\n",
        "\n",
        "    ''' Convert state s from scalar to coordinates x,y '''\n",
        "    def get_XY(self, state):\n",
        "        state -= 1\n",
        "        return (state % self.N_ROWS, int(state / self.N_ROWS))\n",
        "\n",
        "    ''' Convert coordinates x,y to scalar state '''\n",
        "    def get_state(self, state):\n",
        "        return state[1]*self.N_COLUMNS + state[0] + 1\n",
        "\n",
        "\n",
        "    '''\n",
        "    Check if state is special\n",
        "\n",
        "    Params:\n",
        "        - int: state [1,...,25]\n",
        "    Returns:\n",
        "        - bool: is_special\n",
        "        - int: next_state\n",
        "        - int: reward\n",
        "    '''\n",
        "    def is_special(self, state):\n",
        "        for spc in self.SPC_STATES:\n",
        "            if spc[0] == state:\n",
        "                return True, spc[1], spc[2]\n",
        "        return False, None, None\n",
        "\n",
        "\n",
        "\n",
        "    '''\n",
        "    Computes next state and reward\n",
        "\n",
        "    Params:\n",
        "        - int: state [1,...,25]\n",
        "    Returns:\n",
        "        - int: next_state\n",
        "        - int: reward\n",
        "    '''\n",
        "    def next_position(self, state, action):\n",
        "        (x,y) = self.get_XY(state)\n",
        "        (ax, ay) = self.ACTIONS[action]\n",
        "\n",
        "        next_state = (x + ax, y + ay)\n",
        "\n",
        "        special = self.is_special(state)    # returns (is_special, next_state, reward)\n",
        "\n",
        "        # 2.TODO: Complete the TODOs with the corresponding rewards\n",
        "        if special[0]:                                                  # special state\n",
        "            return special[1], special[2]\n",
        "\n",
        "        elif next_state[0] > -1 and next_state[0] < self.N_ROWS and \\\n",
        "            next_state[1] > -1 and next_state[1] < self.N_COLUMNS:      # agent within the limits of the grid\n",
        "\n",
        "            next_state = self.get_state(next_state)\n",
        "            return next_state, 0\n",
        "\n",
        "        else:                                                           # agent is trying to overpass the limits of the grid\n",
        "            return state, -1\n"
      ],
      "execution_count": null,
      "outputs": []
    },
    {
      "cell_type": "markdown",
      "metadata": {
        "id": "EmCa9LE8tzG-"
      },
      "source": [
        "### Plot functions"
      ]
    },
    {
      "cell_type": "code",
      "metadata": {
        "id": "RokI1XGysmJx"
      },
      "source": [
        "'''Insert title, and axis labels to plots'''\n",
        "def insert_labels(labels, ax):\n",
        "    if 'title' in labels:\n",
        "        ax.set_title(labels['title']) \n",
        "    if 'xlabel' in labels:\n",
        "        ax.set_xlabel(labels['xlabel']) \n",
        "    if 'ylabel' in labels:\n",
        "\t    ax.set_ylabel(labels['ylabel'])\n",
        "\n",
        "\n",
        "'''Plot for showing value functions'''\n",
        "def plot_heatmap(data, **kwargs):\n",
        "    fig, ax = plt.subplots()\n",
        "    sns.heatmap(data, cmap='coolwarm')\n",
        "    insert_labels(kwargs, ax)\n",
        "\n",
        "'''Plot for showing how the difference of state-values decrease over time'''\n",
        "def plot_deltas(data, **kwargs):\n",
        "    fig, ax = plt.subplots()\n",
        "    plt.plot(data)\n",
        "    insert_labels(kwargs, ax)\n",
        "\n",
        "'''Policy plots. Indicates action taken in each state.'''\n",
        "def plot_arrow(data, actions, **kwargs):\n",
        "\n",
        "    fig, ax = plt.subplots()\n",
        "\n",
        "    U = np.array([[actions[y][0] for y in x] for x in data])\n",
        "    V = np.array([[actions[y][1] for y in x] for x in data])\n",
        "\n",
        "    X = np.arange(0, 5, 1)\n",
        "    Y = np.arange(0, 5, 1)\n",
        "\n",
        "    q = ax.quiver(X, Y, V, U*-1)\n",
        "    plt.imshow(data, cmap=plt.cm.Pastel1)\n",
        "    # ax.quiverkey(q, X=0.3, Y=1.1, U=10, label=' ', labelpos='E')\n",
        "\n",
        "    insert_labels(kwargs, ax)\n",
        "    ax.axis('off')\n",
        "    plt.show()\n",
        "\n",
        "\n",
        "'''Group of N policy plots.'''\n",
        "def plot_arrows(data, actions):\n",
        "    # Only pick 3 first actions matrices and last one (optimal policy)\n",
        "    num_policies = len(data)\n",
        "\n",
        "    fdata = data[:min(3, num_policies)] + data[-1:]\n",
        "    \n",
        "\n",
        "    fig, ax = plt.subplots(1, len(fdata), figsize=(20,6))\n",
        "    for i, d in enumerate(fdata):\n",
        "\n",
        "        U = np.array([[actions[y][0] for y in x] for x in d])\n",
        "        V = np.array([[actions[y][1] for y in x] for x in d])\n",
        "\n",
        "        X = np.arange(0, 5, 1)\n",
        "        Y = np.arange(0, 5, 1)\n",
        "\n",
        "        q = ax[i].quiver(X, Y, V, U*-1)\n",
        "        ax[i].imshow(d, cmap=plt.cm.Pastel1)\n",
        "        # ax[i].quiverkey(q, X=0.3, Y=1.1, U=10,\n",
        "        #             label=' ', labelpos='E')\n",
        "        labels = {\n",
        "            'title': '{} Policy'.format(i if len(fdata)-1 > i else 'Optimal'),\n",
        "        }\n",
        "        insert_labels(labels, ax[i])\n",
        "        ax[i].axis('off')\n",
        "\n",
        "    plt.show()"
      ],
      "execution_count": null,
      "outputs": []
    },
    {
      "cell_type": "markdown",
      "metadata": {
        "id": "q-mvVkoGw-jn"
      },
      "source": [
        "## TRANSITION PROBABILITY MATRIX AND UNIFORM POLICY VALUE FUNCTION"
      ]
    },
    {
      "cell_type": "code",
      "metadata": {
        "id": "-bBR8JV6xDs2"
      },
      "source": [
        "grid = Grid()\n",
        "\n",
        "for s in range(1, grid.N_STATES + 1):\n",
        "    for a in range(grid.N_ACTIONS):\n",
        "        \n",
        "        next_state, reward = grid.next_position(s, a)\n",
        "        # 3.TODO: Compute reward vector and transition prob matrix. \n",
        "        grid.TrPrM[s-1, next_state-1] += grid.POLICY[next_state - 1,a] #next_state\n",
        "        grid.REWARD[s-1] += reward*grid.POLICY[s - 1,a]"
      ],
      "execution_count": null,
      "outputs": []
    },
    {
      "cell_type": "code",
      "metadata": {
        "id": "NkqFGN78nuEt",
        "outputId": "f624b534-ee24-419a-ba8d-5df4022f0dd6",
        "colab": {
          "base_uri": "https://localhost:8080/",
          "height": 298
        }
      },
      "source": [
        "# PLOT TRANSITION MATRIX\n",
        "conf = {\n",
        "    'title': 'Transition Probability Matrix',\n",
        "    'xlabel': 'sp state',\n",
        "    'ylabel': 's state'\n",
        "}\n",
        "plot_heatmap(grid.TrPrM, **conf)\n",
        "\n"
      ],
      "execution_count": null,
      "outputs": [
        {
          "output_type": "display_data",
          "data": {
            "image/png": "[encoded data removed]",
            "text/plain": [
              "<Figure size 432x288 with 2 Axes>"
            ]
          },
          "metadata": {
            "tags": [],
            "needs_background": "light"
          }
        }
      ]
    },
    {
      "cell_type": "code",
      "metadata": {
        "id": "eSgha-qC6uj8",
        "outputId": "342a5231-47dc-40e6-ae1c-44adf075bb4b",
        "colab": {
          "base_uri": "https://localhost:8080/",
          "height": 281
        }
      },
      "source": [
        "# UNIFORM POLICY VALUE FUNCTION COMPUTATION\n",
        "\n",
        "# 4.TODO: Compute Bellman Equation\n",
        "\n",
        "value_f = np.dot(np.linalg.inv(np.identity(grid.N_STATES) - grid.GAMMA * grid.TrPrM), grid.REWARD)\n",
        "\n",
        "\n",
        "vf_matrix = np.transpose(np.reshape(value_f, (grid.N_ROWS, grid.N_COLUMNS)))\n",
        "\n",
        "# PLOT UNIFORM POLICY VALUE F.\n",
        "conf = {\n",
        "    'title': 'Uniform Policy Value Function',\n",
        "}\n",
        "plot_heatmap(vf_matrix, **conf)"
      ],
      "execution_count": null,
      "outputs": [
        {
          "output_type": "display_data",
          "data": {
            "image/png": "[encoded data removed]",
            "text/plain": [
              "<Figure size 432x288 with 2 Axes>"
            ]
          },
          "metadata": {
            "tags": [],
            "needs_background": "light"
          }
        }
      ]
    },
    {
      "cell_type": "markdown",
      "metadata": {
        "id": "FMo_aXFCss8A"
      },
      "source": [
        "## POLICY EVALUATION"
      ]
    },
    {
      "cell_type": "code",
      "metadata": {
        "id": "FbAph-beswhj"
      },
      "source": [
        "'''\n",
        "In this case we define a function since we will use this algorithm\n",
        "within 'policy iteration' algorithm\n",
        "'''\n",
        "def policy_evaluation(grid):\n",
        "    \n",
        "    zeta = grid.ZETA_MAX + 1\n",
        "    iter = 0\n",
        "    v_incr = []\n",
        "\n",
        "    while zeta > grid.ZETA_MAX and iter < grid.ITER_MAX + 1:\n",
        "        \n",
        "        vm_aux = grid.V_FUNCTION.copy()                                 # Store current state-values for later comparison\n",
        "\n",
        "        for s in range(1, grid.N_STATES + 1):                           # Loop over all the states\n",
        "            vs_aux = 0\n",
        "            for a in range(grid.N_ACTIONS):                             # Loop over all actions in each state\n",
        "                next_state, reward = grid.next_position(s, a)           # Compute next_state and reward when taking action a in state s\n",
        "          \n",
        "                # 5.TODO: Compute update of the state value\n",
        "                vs_aux += (reward + grid.GAMMA*grid.V_FUNCTION[next_state-1])*grid.POLICY[s-1,a]\n",
        "                \n",
        "        \n",
        "            grid.V_FUNCTION[s - 1] = vs_aux                             # Update state-value with the result of Bellman Equation\n",
        "        \n",
        "        zeta = np.max(np.abs(grid.V_FUNCTION - vm_aux))                 # Compute the difference between current state-values and previous ones\n",
        "        v_incr.append(zeta)\n",
        "        iter += 1\n",
        "    \n",
        "    return v_incr"
      ],
      "execution_count": null,
      "outputs": []
    },
    {
      "cell_type": "code",
      "metadata": {
        "id": "ja3u-z02DACE"
      },
      "source": [
        "grid = Grid()\n",
        "v_incr = policy_evaluation(grid)"
      ],
      "execution_count": null,
      "outputs": []
    },
    {
      "cell_type": "code",
      "metadata": {
        "id": "LbrbgRw_5O8a",
        "outputId": "b7c821e3-101e-436f-8ef3-bce740b28c98",
        "colab": {
          "base_uri": "https://localhost:8080/",
          "height": 559
        }
      },
      "source": [
        "vf_matrix = np.transpose(np.reshape(grid.V_FUNCTION, (grid.N_ROWS, grid.N_COLUMNS)))\n",
        "\n",
        "conf = {\n",
        "    'title': 'Policy Evaluation Value Function',\n",
        "}\n",
        "plot_heatmap(vf_matrix, **conf)\n",
        "\n",
        "\n",
        "conf= {\n",
        "    'title': 'VF Incremental',\n",
        "    'xlabel': 'Iterations'\n",
        "}\n",
        "plot_deltas(v_incr, **conf)\n"
      ],
      "execution_count": null,
      "outputs": [
        {
          "output_type": "display_data",
          "data": {
            "image/png": "[encoded data removed]",
            "text/plain": [
              "<Figure size 432x288 with 2 Axes>"
            ]
          },
          "metadata": {
            "tags": [],
            "needs_background": "light"
          }
        },
        {
          "output_type": "display_data",
          "data": {
            "image/png": "[encoded data removed]",
            "text/plain": [
              "<Figure size 432x288 with 1 Axes>"
            ]
          },
          "metadata": {
            "tags": [],
            "needs_background": "light"
          }
        }
      ]
    },
    {
      "cell_type": "code",
      "metadata": {
        "id": "LQDA0B8V5bbE"
      },
      "source": [
        "# Obtenemos la misma Value Function"
      ],
      "execution_count": null,
      "outputs": []
    },
    {
      "cell_type": "markdown",
      "metadata": {
        "id": "7z4JSTbwsxKe"
      },
      "source": [
        "## POLICY ITERATION"
      ]
    },
    {
      "cell_type": "code",
      "metadata": {
        "id": "ojdElUBjs2h8"
      },
      "source": [
        "grid = Grid()\n",
        "\n",
        "iter = 0\n",
        "it_max = 10\n",
        "ac_dif = 1\n",
        "\n",
        "actions_list = []       # Store actions taken in each state for each run. [[a1, ... , a25], ... , [a1, ... , a25]]\n",
        "a_inc = []              # Store number of different actions taken in each run.\n",
        "\n",
        "\n",
        "while ac_dif > 0 and iter < it_max + 1:\n",
        "    ac_dif = 0\n",
        "    actions = []\n",
        "    \n",
        "  \n",
        "\n",
        "    # 6.TODO: Program Policy Iteration Algorithm (you must make use of policy_evaluation function)\n",
        "            \n",
        "    \n",
        "    policy_evaluation(grid)\n",
        "    \n",
        "    \n",
        "   \n",
        "\n",
        "        \n",
        "\n",
        "    for s in range(1,grid.N_STATES+1):\n",
        "\n",
        "        chosen_a = np.argmax(grid.POLICY[s-1])\n",
        "        \n",
        "        A = np.zeros(grid.N_ACTIONS)\n",
        "        for a in range(grid.N_ACTIONS):\n",
        "            next_state, reward = grid.next_position(s, a)\n",
        "            A[a] += (reward + grid.GAMMA*grid.V_FUNCTION[next_state-1])\n",
        "          \n",
        "        \n",
        "        \n",
        "        \n",
        "        best_a = np.argmax(A)\n",
        "        \n",
        "        actions.append(best_a)\n",
        "             \n",
        "        # Greedily update the policy\n",
        "        if chosen_a != best_a:\n",
        "          ac_dif+=1\n",
        "        grid.POLICY[s-1] = np.eye(grid.N_ACTIONS)[best_a]\n",
        "   \n",
        "            \n",
        "          \n",
        "    \n",
        "    actions_list.append(np.transpose(np.array(actions).reshape(grid.N_ROWS,grid.N_COLUMNS)))\n",
        "\n",
        "    \n",
        "    a_inc.append(ac_dif)\n",
        "\n",
        "    iter += 1"
      ],
      "execution_count": null,
      "outputs": []
    },
    {
      "cell_type": "code",
      "metadata": {
        "id": "24ylkranLraI",
        "outputId": "d5aacba8-63ac-4020-db2d-509cb471d6f1",
        "colab": {
          "base_uri": "https://localhost:8080/",
          "height": 559
        }
      },
      "source": [
        "vf_matrix = np.transpose(np.reshape(grid.V_FUNCTION, (grid.N_ROWS, grid.N_COLUMNS)))\n",
        "\n",
        "conf = {\n",
        "    'title': 'Policy Iteration Value Function',\n",
        "}\n",
        "plot_heatmap(vf_matrix, **conf)\n",
        "\n",
        "\n",
        "conf= {\n",
        "    'title': '# of dif. actions between consecutive policies',\n",
        "    'xlabel': 'Iterations'\n",
        "}\n",
        "plot_deltas(a_inc, **conf)\n",
        "\n"
      ],
      "execution_count": null,
      "outputs": [
        {
          "output_type": "display_data",
          "data": {
            "image/png": "[encoded data removed]",
            "text/plain": [
              "<Figure size 432x288 with 2 Axes>"
            ]
          },
          "metadata": {
            "tags": [],
            "needs_background": "light"
          }
        },
        {
          "output_type": "display_data",
          "data": {
            "image/png": "[encoded data removed]",
            "text/plain": [
              "<Figure size 432x288 with 1 Axes>"
            ]
          },
          "metadata": {
            "tags": [],
            "needs_background": "light"
          }
        }
      ]
    },
    {
      "cell_type": "code",
      "metadata": {
        "id": "IBpxT28fR0eS",
        "outputId": "7fd963f3-8c0c-4963-cd7e-f325a3196604",
        "colab": {
          "base_uri": "https://localhost:8080/",
          "height": 290
        }
      },
      "source": [
        "plot_arrows(actions_list, grid.ACTIONS)"
      ],
      "execution_count": null,
      "outputs": [
        {
          "output_type": "display_data",
          "data": {
            "image/png": "[encoded data removed]",
            "text/plain": [
              "<Figure size 1440x432 with 4 Axes>"
            ]
          },
          "metadata": {
            "tags": [],
            "needs_background": "light"
          }
        }
      ]
    },
    {
      "cell_type": "markdown",
      "metadata": {
        "id": "8KKf7jiPs6Ok"
      },
      "source": [
        "## VALUE ITERATION"
      ]
    },
    {
      "cell_type": "code",
      "metadata": {
        "id": "QCNrl1wns3EX"
      },
      "source": [
        "\n",
        "grid = Grid()\n",
        "zeta = grid.ZETA_MAX + 1\n",
        "iter = 0\n",
        "v_incr = []\n",
        "a_inc = []\n",
        "\n",
        "while zeta > grid.ZETA_MAX and iter < grid.ITER_MAX + 1:\n",
        "    ac_dif = 0\n",
        "    vm_aux = grid.V_FUNCTION.copy()\n",
        "\n",
        "    for s in range(1, grid.N_STATES + 1):                           # Loop over all the states\n",
        "            A = np.zeros(grid.N_ACTIONS)\n",
        "            for a in range(grid.N_ACTIONS):                             # Loop over all actions in each state\n",
        "                next_state, reward = grid.next_position(s, a)           # Compute next_state and reward when taking action a in state s\n",
        "                A[a] += (reward + grid.GAMMA*grid.V_FUNCTION[next_state-1])\n",
        "                \n",
        "               \n",
        "                \n",
        "        \n",
        "            grid.V_FUNCTION[s - 1] = np.max(A)\n",
        "    zeta = np.max(np.abs(grid.V_FUNCTION - vm_aux))     \n",
        "    v_incr.append(zeta)                                 \n",
        "    iter += 1\n",
        "    \n",
        "\n",
        "    \n",
        "for s in range(1,grid.N_STATES+1):\n",
        "\n",
        "\n",
        "        chosen_a = np.argmax(grid.POLICY[s-1])\n",
        "            \n",
        "        A = np.zeros(grid.N_ACTIONS)\n",
        "        for a in range(grid.N_ACTIONS):\n",
        "            next_state, reward = grid.next_position(s, a)\n",
        "            A[a] += (reward + grid.GAMMA*grid.V_FUNCTION[next_state-1])\n",
        "        best_a = np.argmax(A)\n",
        "            \n",
        "\n",
        "        if chosen_a != best_a:\n",
        "          ac_dif+=1\n",
        "        grid.POLICY[s-1,best_a] = 1.0\n",
        "\n",
        "a_inc.append(ac_dif)                                # Number of actions taken differently from previous iteration\n",
        "    \n"
      ],
      "execution_count": null,
      "outputs": []
    },
    {
      "cell_type": "code",
      "metadata": {
        "id": "cw9p94h3K1gD",
        "outputId": "50dd99af-ea15-4ccb-bf0d-e20dea753834",
        "colab": {
          "base_uri": "https://localhost:8080/",
          "height": 837
        }
      },
      "source": [
        "vf_matrix = np.transpose(np.reshape(grid.V_FUNCTION, (grid.N_ROWS, grid.N_COLUMNS)))\n",
        "\n",
        "conf = {\n",
        "    'title': 'Value Iteration Value Function',\n",
        "}\n",
        "plot_heatmap(vf_matrix, **conf)\n",
        "\n",
        "\n",
        "conf= {\n",
        "    'title': '# of dif. actions between consecutive policies',\n",
        "    'xlabel': 'Iterations'\n",
        "}\n",
        "plot_deltas(a_inc, **conf)\n",
        "\n",
        "conf= {\n",
        "    'title': 'VF Incremental',\n",
        "    'xlabel': 'Iterations'\n",
        "}\n",
        "plot_deltas(v_incr, **conf)\n"
      ],
      "execution_count": null,
      "outputs": [
        {
          "output_type": "display_data",
          "data": {
            "image/png": "[encoded data removed]",
            "text/plain": [
              "<Figure size 432x288 with 2 Axes>"
            ]
          },
          "metadata": {
            "tags": [],
            "needs_background": "light"
          }
        },
        {
          "output_type": "display_data",
          "data": {
            "image/png": "[encoded data removed]",
            "text/plain": [
              "<Figure size 432x288 with 1 Axes>"
            ]
          },
          "metadata": {
            "tags": [],
            "needs_background": "light"
          }
        },
        {
          "output_type": "display_data",
          "data": {
            "image/png": "[encoded data removed]",
            "text/plain": [
              "<Figure size 432x288 with 1 Axes>"
            ]
          },
          "metadata": {
            "tags": [],
            "needs_background": "light"
          }
        }
      ]
    },
    {
      "cell_type": "code",
      "metadata": {
        "id": "p0-i0vkZ5ui2",
        "outputId": "8fba2bc0-84d4-4235-9c38-eff0d3672100",
        "colab": {
          "base_uri": "https://localhost:8080/",
          "height": 264
        }
      },
      "source": [
        "conf= {\n",
        "    'title': 'Optimal Policy'\n",
        "}\n",
        "\n",
        "actions = []\n",
        "for s in range(1, grid.N_STATES + 1):\n",
        "    actions.append(np.argmax(grid.POLICY[s-1]))\n",
        "\n",
        "action_arrows = np.transpose(np.array(actions).reshape(grid.N_ROWS,grid.N_COLUMNS))\n",
        "plot_arrow(action_arrows, grid.ACTIONS, **conf)"
      ],
      "execution_count": null,
      "outputs": [
        {
          "output_type": "display_data",
          "data": {
            "image/png": "[encoded data removed]",
            "text/plain": [
              "<Figure size 432x288 with 1 Axes>"
            ]
          },
          "metadata": {
            "tags": [],
            "needs_background": "light"
          }
        }
      ]
    },
    {
      "cell_type": "markdown",
      "metadata": {
        "id": "lE5v4wKv2Aen"
      },
      "source": [
        "En Policy Iteration, podemos ver que el Policy improvement converge en  2 iteraciones. Además, la value function converge en unas 5 iteraciones. Como resolver la ecuación de Bellman puede ser costoso, utilizamos una estimación de esta.\n",
        "\n",
        "En el value iteration podemos ver que usamos mas iteraciones para encontrar la Value function(unas 10). Con los dos métodos hemos obtenido la misma Optimal policy en un número similar de iteraciones.\n",
        "\n"
      ]
    }
  ]
}