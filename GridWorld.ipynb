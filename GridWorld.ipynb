{
  "nbformat": 4,
  "nbformat_minor": 0,
  "metadata": {
    "colab": {
      "name": "Navarrete_Jimenez_Daniel_Copia de GridWorld.ipynb",
      "provenance": [],
      "collapsed_sections": [],
      "include_colab_link": true
    },
    "kernelspec": {
      "display_name": "Python 3",
      "name": "python3"
    }
  },
  "cells": [
    {
      "cell_type": "markdown",
      "metadata": {
        "id": "view-in-github",
        "colab_type": "text"
      },
      "source": [
        "<a href=\"https://colab.research.google.com/github/DanileRond/ARAP/blob/main/GridWorld.ipynb\" target=\"_parent\"><img src=\"https://colab.research.google.com/assets/colab-badge.svg\" alt=\"Open In Colab\"/></a>"
      ]
    },
    {
      "cell_type": "markdown",
      "metadata": {
        "id": "0Tdlo7SK8ZdT"
      },
      "source": [
        "## Colab Notebook created for ARAP module at UPC ETSETB.\n",
        "\n",
        "Authors: Juan José Nieto, Josep Vidal, Margarita Cabrera-Bean"
      ]
    },
    {
      "cell_type": "markdown",
      "metadata": {
        "id": "kQESq6dqoo-N"
      },
      "source": [
        "# GRID WORLD"
      ]
    },
    {
      "cell_type": "markdown",
      "metadata": {
        "id": "6nrr6nf3yDAz"
      },
      "source": [
        "## Complete the TODOs you'll find:\n",
        "\n",
        "\n",
        "1.  Initiate the variable POLICY p(s'|a,s).\n",
        "2.  Initiate the corresponding rewards in *next_position* function.\n",
        "3.  Compute the reward vector and the transition probability matrix.\n",
        "4.  Compute Bellman Equation\n",
        "-------------------------------------------------\n",
        "5.  Compute update of the state value\n",
        "6.  Program Policy Iteration Algorithm\n",
        "7.  Program Value Iteration Algorithm\n",
        "\n",
        "\n",
        "\n",
        "\n"
      ]
    },
    {
      "cell_type": "code",
      "metadata": {
        "id": "RfmWXOV5pVR1"
      },
      "source": [
        "import numpy as np\n",
        "import seaborn as sns\n",
        "\n",
        "from random import random\n",
        "import matplotlib.pyplot as plt"
      ],
      "execution_count": null,
      "outputs": []
    },
    {
      "cell_type": "code",
      "metadata": {
        "id": "ahQSmXlQgFr-"
      },
      "source": [
        "class Grid():\n",
        "    def __init__(self):\n",
        "        self.N_ROWS = 5\n",
        "        self.N_COLUMNS = 5\n",
        "        self.N_STATES = self.N_ROWS * self.N_COLUMNS\n",
        "\n",
        "        self.GAMMA = 0.9\n",
        "        self.ZETA_MAX = 1e-3\n",
        "        self.ITER_MAX = 100\n",
        "        \n",
        "        self.ACTIONS = [(0, -1), (1, 0), (0, 1), (-1, 0)]\n",
        "        self.N_ACTIONS = 4\n",
        "        \n",
        "        # 1.TODO: Initialize with equal probability for each action in each state\n",
        "        \n",
        "        #self.POLICY = [1/self.N_ACTIONS, 1/self.N_ACTIONS, 1/self.N_ACTIONS, 1/self.N_ACTIONS]\n",
        "        #self.POLICY = np.ones(self.N_STATES,self.N_ACTIONS)/N_ACTIONS\n",
        "        self.POLICY = np.full(fill_value = 1. / self.N_ACTIONS, shape = (self.N_STATES, self.N_ACTIONS))\n",
        "\n",
        "\n",
        "\n",
        "        self.SPC_STATES = [(6, 10, 10), (16, 18, 5)] # (ini state, fin state, reward)\n",
        "        \n",
        "        \n",
        "\n",
        "        self.TrPrM = np.zeros((self.N_STATES, self.N_STATES))\n",
        "        self.V_FUNCTION = np.zeros(self.N_STATES)\n",
        "        self.REWARD = np.zeros(self.N_STATES)\n",
        "\n",
        "\n",
        "    ''' Convert state s from scalar to coordinates x,y '''\n",
        "    def get_XY(self, state):\n",
        "        state -= 1\n",
        "        return (state % self.N_ROWS, int(state / self.N_ROWS))\n",
        "\n",
        "    ''' Convert coordinates x,y to scalar state '''\n",
        "    def get_state(self, state):\n",
        "        return state[1]*self.N_COLUMNS + state[0] + 1\n",
        "\n",
        "\n",
        "    '''\n",
        "    Check if state is special\n",
        "\n",
        "    Params:\n",
        "        - int: state [1,...,25]\n",
        "    Returns:\n",
        "        - bool: is_special\n",
        "        - int: next_state\n",
        "        - int: reward\n",
        "    '''\n",
        "    def is_special(self, state):\n",
        "        for spc in self.SPC_STATES:\n",
        "            if spc[0] == state:\n",
        "                return True, spc[1], spc[2]\n",
        "        return False, None, None\n",
        "\n",
        "\n",
        "\n",
        "    '''\n",
        "    Computes next state and reward\n",
        "\n",
        "    Params:\n",
        "        - int: state [1,...,25]\n",
        "    Returns:\n",
        "        - int: next_state\n",
        "        - int: reward\n",
        "    '''\n",
        "    def next_position(self, state, action):\n",
        "        (x,y) = self.get_XY(state)\n",
        "        (ax, ay) = self.ACTIONS[action]\n",
        "\n",
        "        next_state = (x + ax, y + ay)\n",
        "\n",
        "        special = self.is_special(state)    # returns (is_special, next_state, reward)\n",
        "\n",
        "        # 2.TODO: Complete the TODOs with the corresponding rewards\n",
        "        if special[0]:                                                 # special state\n",
        "            '''\n",
        "            if state == self.SPC_STATES[0][0]:\n",
        "              special[1] = self.SPC_STATES[0][1]\n",
        "              special[2] = self.SPC_STATES[0][2]\n",
        "            elif state == self.SPC_STATES[1][0]:\n",
        "              special[1] = self.SPC_STATES[1][1]\n",
        "              special[2] = self.SPC_STATES[1][2]\n",
        "'''\n",
        "            return special[1], special[2]\n",
        "\n",
        "        elif next_state[0] > -1 and next_state[0] < self.N_ROWS and \\\n",
        "            next_state[1] > -1 and next_state[1] < self.N_COLUMNS:      # agent within the limits of the grid\n",
        "\n",
        "            next_state = self.get_state(next_state)\n",
        "\n",
        "            reward = 0\n",
        "\n",
        "            return next_state, reward\n",
        "\n",
        "        else:\n",
        "            reward = -1                                                           # agent is trying to overpass the limits of the grid\n",
        "            return state, reward\n"
      ],
      "execution_count": null,
      "outputs": []
    },
    {
      "cell_type": "markdown",
      "metadata": {
        "id": "EmCa9LE8tzG-"
      },
      "source": [
        "### Plot functions"
      ]
    },
    {
      "cell_type": "code",
      "metadata": {
        "id": "RokI1XGysmJx"
      },
      "source": [
        "'''Insert title, and axis labels to plots'''\n",
        "def insert_labels(labels, ax):\n",
        "    if 'title' in labels:\n",
        "        ax.set_title(labels['title']) \n",
        "    if 'xlabel' in labels:\n",
        "        ax.set_xlabel(labels['xlabel']) \n",
        "    if 'ylabel' in labels:\n",
        "\t    ax.set_ylabel(labels['ylabel'])\n",
        "\n",
        "\n",
        "'''Plot for showing value functions'''\n",
        "def plot_heatmap(data, **kwargs):\n",
        "    fig, ax = plt.subplots()\n",
        "    sns.heatmap(data, cmap='coolwarm')\n",
        "    insert_labels(kwargs, ax)\n",
        "\n",
        "'''Plot for showing how the difference of state-values decrease over time'''\n",
        "def plot_deltas(data, **kwargs):\n",
        "    fig, ax = plt.subplots()\n",
        "    plt.plot(data)\n",
        "    insert_labels(kwargs, ax)\n",
        "\n",
        "'''Policy plots. Indicates action taken in each state.'''\n",
        "def plot_arrow(data, actions, **kwargs):\n",
        "\n",
        "    fig, ax = plt.subplots()\n",
        "\n",
        "    U = np.array([[actions[y][0] for y in x] for x in data])\n",
        "    V = np.array([[actions[y][1] for y in x] for x in data])\n",
        "\n",
        "    X = np.arange(0, 5, 1)\n",
        "    Y = np.arange(0, 5, 1)\n",
        "\n",
        "    q = ax.quiver(X, Y, V, U*-1)\n",
        "    plt.imshow(data, cmap=plt.cm.Pastel1)\n",
        "    # ax.quiverkey(q, X=0.3, Y=1.1, U=10, label=' ', labelpos='E')\n",
        "\n",
        "    insert_labels(kwargs, ax)\n",
        "    ax.axis('off')\n",
        "    plt.show()\n",
        "\n",
        "\n",
        "'''Group of N policy plots.'''\n",
        "def plot_arrows(data, actions):\n",
        "    # Only pick 3 first actions matrices and last one (optimal policy)\n",
        "    num_policies = len(data)\n",
        "\n",
        "    fdata = data[:min(3, num_policies)] + data[-1:]\n",
        "    \n",
        "\n",
        "    fig, ax = plt.subplots(1, len(fdata), figsize=(20,6))\n",
        "    for i, d in enumerate(fdata):\n",
        "\n",
        "        U = np.array([[actions[y][0] for y in x] for x in d])\n",
        "        V = np.array([[actions[y][1] for y in x] for x in d])\n",
        "\n",
        "        X = np.arange(0, 5, 1)\n",
        "        Y = np.arange(0, 5, 1)\n",
        "\n",
        "        q = ax[i].quiver(X, Y, V, U*-1)\n",
        "        ax[i].imshow(d, cmap=plt.cm.Pastel1)\n",
        "        # ax[i].quiverkey(q, X=0.3, Y=1.1, U=10,\n",
        "        #             label=' ', labelpos='E')\n",
        "        labels = {\n",
        "            'title': '{} Policy'.format(i if len(fdata)-1 > i else 'Optimal'),\n",
        "        }\n",
        "        insert_labels(labels, ax[i])\n",
        "        ax[i].axis('off')\n",
        "\n",
        "    plt.show()"
      ],
      "execution_count": null,
      "outputs": []
    },
    {
      "cell_type": "markdown",
      "metadata": {
        "id": "q-mvVkoGw-jn"
      },
      "source": [
        "## TRANSITION PROBABILITY MATRIX AND UNIFORM POLICY VALUE FUNCTION"
      ]
    },
    {
      "cell_type": "code",
      "metadata": {
        "id": "-bBR8JV6xDs2"
      },
      "source": [
        "grid = Grid()\n",
        "\n",
        "for s in range(1, grid.N_STATES + 1):\n",
        "    for a in range(grid.N_ACTIONS):\n",
        "        \n",
        "        next_state, reward = grid.next_position(s, a)\n",
        "        # 3.TODO: Compute reward vector and transition prob matrix. \n",
        "        grid.TrPrM[s-1, next_state-1] += grid.POLICY[next_state - 1,a]\n",
        "        grid.REWARD[s-1] += reward*grid.POLICY[s - 1,a]"
      ],
      "execution_count": null,
      "outputs": []
    },
    {
      "cell_type": "code",
      "metadata": {
        "id": "NkqFGN78nuEt",
        "outputId": "ee53bed7-e659-4c3a-d008-39b041648a4e",
        "colab": {
          "base_uri": "https://localhost:8080/",
          "height": 298
        }
      },
      "source": [
        "# PLOT TRANSITION MATRIX\n",
        "conf = {\n",
        "    'title': 'Transition Probability Matrix',\n",
        "    'xlabel': 'sp state',\n",
        "    'ylabel': 's state'\n",
        "}\n",
        "plot_heatmap(grid.TrPrM, **conf)\n",
        "\n"
      ],
      "execution_count": null,
      "outputs": [
        {
          "output_type": "display_data",
          "data": {
            "image/png": "[encoded data removed]",
            "text/plain": [
              "<Figure size 432x288 with 2 Axes>"
            ]
          },
          "metadata": {
            "tags": [],
            "needs_background": "light"
          }
        }
      ]
    },
    {
      "cell_type": "code",
      "metadata": {
        "id": "eSgha-qC6uj8",
        "outputId": "b43073af-da14-44ec-8671-4c22b42ba087",
        "colab": {
          "base_uri": "https://localhost:8080/",
          "height": 281
        }
      },
      "source": [
        "# UNIFORM POLICY VALUE FUNCTION COMPUTATION\n",
        "\n",
        "# 4.TODO: Compute Bellman Equation\n",
        "\n",
        "#value_f = (np.linalg.inv(np.identity(grid.N_STATES)-grid.GAMMA*grid.TrPrM))*grid.REWARD\n",
        "value_f = np.dot(np.linalg.inv(np.identity(grid.N_STATES) - grid.GAMMA * grid.TrPrM), grid.REWARD)\n",
        "vf_matrix = np.transpose(np.reshape(value_f, (grid.N_ROWS, grid.N_COLUMNS)))\n",
        "\n",
        "# PLOT UNIFORM POLICY VALUE F.\n",
        "conf = {\n",
        "    'title': 'Uniform Policy Value Function',\n",
        "}\n",
        "plot_heatmap(vf_matrix, **conf)"
      ],
      "execution_count": null,
      "outputs": [
        {
          "output_type": "display_data",
          "data": {
            "image/png": "[encoded data removed]",
            "text/plain": [
              "<Figure size 432x288 with 2 Axes>"
            ]
          },
          "metadata": {
            "tags": [],
            "needs_background": "light"
          }
        }
      ]
    },
    {
      "cell_type": "markdown",
      "metadata": {
        "id": "FMo_aXFCss8A"
      },
      "source": [
        "## POLICY EVALUATION"
      ]
    },
    {
      "cell_type": "code",
      "metadata": {
        "id": "FbAph-beswhj"
      },
      "source": [
        "'''\n",
        "In this case we define a function since we will use this algorithm\n",
        "within 'policy iteration' algorithm\n",
        "'''\n",
        "def policy_evaluation(grid):\n",
        "    zeta = grid.ZETA_MAX + 1\n",
        "    iter = 0\n",
        "    v_incr = []\n",
        "\n",
        "    while zeta > grid.ZETA_MAX and iter < grid.ITER_MAX + 1:\n",
        "        \n",
        "        vm_aux = grid.V_FUNCTION.copy()                                 # Store current state-values for later comparison\n",
        "\n",
        "        for s in range(1, grid.N_STATES + 1):                           # Loop over all the states\n",
        "            vs_aux = 0\n",
        "            for a in range(grid.N_ACTIONS):                             # Loop over all actions in each state\n",
        "                next_state, reward = grid.next_position(s, a)           # Compute next_state and reward when taking action a in state s\n",
        "\n",
        "                # 5.TODO: Compute update of the state value\n",
        "\n",
        "                vs_aux += (reward + grid.GAMMA*vm_aux[next_state-1])*grid.POLICY[s-1,a]\n",
        "               # vs_aux = grid.REWARD[s-1] + grid.GAMMA*grid.TrPrM[s-1,next_state-1]*vs_aux\n",
        "               # vs_aux[]\n",
        "#               value_f = np.dot(np.linalg.inv(np.identity(grid.N_STATES) - grid.GAMMA * grid.TrPrM), grid.REWARD)\n",
        " #               print(reward + grid.GAMMA*vm_aux[next_state - 1])\n",
        " #               print(grid.POLICY[a]*grid.TrPrM[:, next_state-1])\n",
        "            grid.V_FUNCTION[s - 1] = vs_aux                             # Update state-value with the result of Bellman Equation\n",
        "        \n",
        "        zeta = np.max(np.abs(grid.V_FUNCTION - vm_aux))                 # Compute the difference between current state-values and previous ones\n",
        "        v_incr.append(zeta)\n",
        "        iter += 1\n",
        "    \n",
        "    return v_incr"
      ],
      "execution_count": null,
      "outputs": []
    },
    {
      "cell_type": "code",
      "metadata": {
        "id": "ja3u-z02DACE"
      },
      "source": [
        "grid = Grid()\n",
        "#print(grid.POLICY[2])\n",
        "v_incr = policy_evaluation(grid)\n",
        "#print(v_incr)\n"
      ],
      "execution_count": null,
      "outputs": []
    },
    {
      "cell_type": "code",
      "metadata": {
        "id": "LbrbgRw_5O8a",
        "outputId": "e453ee93-1880-43f6-bd2d-b3e35b38b6ce",
        "colab": {
          "base_uri": "https://localhost:8080/",
          "height": 559
        }
      },
      "source": [
        "\n",
        "vf_matrix = np.transpose(np.reshape(grid.V_FUNCTION, (grid.N_ROWS, grid.N_COLUMNS)))\n",
        "\n",
        "conf = {\n",
        "    'title': 'Policy Evaluation Value Function',\n",
        "}\n",
        "plot_heatmap(vf_matrix, **conf)\n",
        "\n",
        "\n",
        "conf= {\n",
        "    'title': 'VF Incremental',\n",
        "    'xlabel': 'Iterations'\n",
        "}\n",
        "plot_deltas(v_incr, **conf)\n"
      ],
      "execution_count": null,
      "outputs": [
        {
          "output_type": "display_data",
          "data": {
            "image/png": "[encoded data removed]",
            "text/plain": [
              "<Figure size 432x288 with 2 Axes>"
            ]
          },
          "metadata": {
            "tags": [],
            "needs_background": "light"
          }
        },
        {
          "output_type": "display_data",
          "data": {
            "image/png": "[encoded data removed]",
            "text/plain": [
              "<Figure size 432x288 with 1 Axes>"
            ]
          },
          "metadata": {
            "tags": [],
            "needs_background": "light"
          }
        }
      ]
    },
    {
      "cell_type": "markdown",
      "metadata": {
        "id": "aRBoD3Chq6dX"
      },
      "source": [
        "El resultat obtingut és el mateix que el trobat pel mètode anterior"
      ]
    },
    {
      "cell_type": "markdown",
      "metadata": {
        "id": "7z4JSTbwsxKe"
      },
      "source": [
        "## POLICY ITERATION"
      ]
    },
    {
      "cell_type": "code",
      "metadata": {
        "id": "FLr3PK-CDLfd",
        "outputId": "4ad7fc34-53b6-4e4c-bbcd-07d82e10850f",
        "colab": {
          "base_uri": "https://localhost:8080/",
          "height": 118
        }
      },
      "source": [
        "_"
      ],
      "execution_count": null,
      "outputs": [
        {
          "output_type": "execute_result",
          "data": {
            "application/vnd.google.colaboratory.intrinsic+json": {
              "type": "string"
            },
            "text/plain": [
              "'\\n    for s in range(grid.N_STATES + 1):\\n        old_action = np.argmax(grid.POLICY[s-1])\\n        old_actions.append(old_action)\\n        A = np.zeros(grid.N_ACTIONS)\\n        for a in range(grid.N_ACTIONS):\\n            next_state, reward = grid.next_position(s, a)\\n            A[a] += (reward + grid.GAMMA*grid.V_FUNCTION[next_state-1])\\n          \\n        \\n        \\n        \\n        best_a = np.argmax(A) \\n        actions.append(best_a)\\n        diff = 0\\n        if old_action != best_a:\\n          diff = best_a - old_action\\n        ac_dif = ac_dif + diff \\n        # Greedily update the policy\\n        grid.POLICY[s-1] = np.eye(grid.N_ACTIONS)[best_a]\\n            \\n          \\n    \\n    actions_list.append(np.transpose(np.array(actions).reshape(grid.N_ROWS,grid.N_COLUMNS)))\\n   \\n  \\n    a_inc.append(ac_dif)\\n \\n    iter += 1\\n    '"
            ]
          },
          "metadata": {
            "tags": []
          },
          "execution_count": 29
        }
      ]
    },
    {
      "cell_type": "code",
      "metadata": {
        "id": "ojdElUBjs2h8",
        "outputId": "eefcb7cd-523b-4084-be06-d93a8a3d9555",
        "colab": {
          "base_uri": "https://localhost:8080/",
          "height": 118
        }
      },
      "source": [
        "grid = Grid()\n",
        " \n",
        "iter = 0\n",
        "it_max = 10\n",
        "ac_dif = 1\n",
        " \n",
        "actions_list = []       # Store actions taken in each state for each run. [[a1, ... , a25], ... , [a1, ... , a25]]\n",
        "a_inc = []              # Store number of different actions taken in each run.\n",
        " \n",
        "'''\n",
        "def one_step_lookahead(state, V):\n",
        "          \"\"\"\n",
        "        Helper function to calculate the value for all action in a given state.\n",
        "        \n",
        "        Args:\n",
        "            state: The state to consider (int)\n",
        "            V: The value to use as an estimator, Vector of length env.nS\n",
        "        \n",
        "        Returns:\n",
        "            A vector of length env.nA containing the expected value of each action.\n",
        "        \"\"\"\n",
        "  A = np.zeros(grid.N_ACTIONS)\n",
        "  for a in range(grid.N_ACTIONS):\n",
        "    for grid.POLICY, next_state, reward, done in grid.TrPrM[next_state - 1, s - 1]:\n",
        "      A[a] += prob * (reward + discount_factor * V[next_state])\n",
        "  return A\n",
        "'''\n",
        "        \n",
        "        \n",
        "    \n",
        " \n",
        " \n",
        "while ac_dif > 0 and iter < it_max + 1:\n",
        "    ac_dif = 0\n",
        "    actions = []\n",
        "    \n",
        "    # 6.TODO: Program Policy Iteration Algorithm (you must make use of policy_evaluation function)\n",
        " \n",
        "    policy_evaluation(grid)\n",
        " \n",
        "    policy_stable = True  \n",
        " \n",
        "    old_actions = []\n",
        " \n",
        "      \n",
        "    for s in range(1,grid.N_STATES + 1):\n",
        "        old_action = np.argmax(grid.POLICY[s-1])\n",
        "        old_actions.append(old_action)\n",
        "        \n",
        "        A = np.zeros(grid.N_ACTIONS)\n",
        "        for a in range(grid.N_ACTIONS):\n",
        "            next_state, reward = grid.next_position(s, a)\n",
        "            A[a] += (reward + grid.GAMMA*grid.V_FUNCTION[next_state-1])\n",
        "          \n",
        "        \n",
        "        \n",
        "        \n",
        "        best_a = np.argmax(A)\n",
        "        actions.append(best_a) \n",
        " \n",
        " \n",
        "        if old_action != best_a:\n",
        "          ac_dif += 1\n",
        "         \n",
        " \n",
        "        # Greedily update the policy\n",
        "        grid.POLICY[s-1] = np.eye(grid.N_ACTIONS)[best_a]\n",
        "            \n",
        "          \n",
        "    \n",
        "    actions_list.append(np.transpose(np.array(actions).reshape(grid.N_ROWS,grid.N_COLUMNS)))\n",
        " \n",
        "    \n",
        "    a_inc.append(ac_dif)\n",
        " \n",
        "    iter += 1  \n",
        " \n",
        "'''\n",
        "    for s in range(grid.N_STATES + 1):\n",
        "        old_action = np.argmax(grid.POLICY[s-1])\n",
        "        old_actions.append(old_action)\n",
        "        A = np.zeros(grid.N_ACTIONS)\n",
        "        for a in range(grid.N_ACTIONS):\n",
        "            next_state, reward = grid.next_position(s, a)\n",
        "            A[a] += (reward + grid.GAMMA*grid.V_FUNCTION[next_state-1])\n",
        "          \n",
        "        \n",
        "        \n",
        "        \n",
        "        best_a = np.argmax(A) \n",
        "        actions.append(best_a)\n",
        "        diff = 0\n",
        "        if old_action != best_a:\n",
        "          diff = best_a - old_action\n",
        "        ac_dif = ac_dif + diff \n",
        "        # Greedily update the policy\n",
        "        grid.POLICY[s-1] = np.eye(grid.N_ACTIONS)[best_a]\n",
        "            \n",
        "          \n",
        "    \n",
        "    actions_list.append(np.transpose(np.array(actions).reshape(grid.N_ROWS,grid.N_COLUMNS)))\n",
        "   \n",
        "  \n",
        "    a_inc.append(ac_dif)\n",
        " \n",
        "    iter += 1\n",
        "    '''"
      ],
      "execution_count": null,
      "outputs": [
        {
          "output_type": "execute_result",
          "data": {
            "application/vnd.google.colaboratory.intrinsic+json": {
              "type": "string"
            },
            "text/plain": [
              "'\\n    for s in range(grid.N_STATES + 1):\\n        old_action = np.argmax(grid.POLICY[s-1])\\n        old_actions.append(old_action)\\n        A = np.zeros(grid.N_ACTIONS)\\n        for a in range(grid.N_ACTIONS):\\n            next_state, reward = grid.next_position(s, a)\\n            A[a] += (reward + grid.GAMMA*grid.V_FUNCTION[next_state-1])\\n          \\n        \\n        \\n        \\n        best_a = np.argmax(A) \\n        actions.append(best_a)\\n        diff = 0\\n        if old_action != best_a:\\n          diff = best_a - old_action\\n        ac_dif = ac_dif + diff \\n        # Greedily update the policy\\n        grid.POLICY[s-1] = np.eye(grid.N_ACTIONS)[best_a]\\n            \\n          \\n    \\n    actions_list.append(np.transpose(np.array(actions).reshape(grid.N_ROWS,grid.N_COLUMNS)))\\n   \\n  \\n    a_inc.append(ac_dif)\\n \\n    iter += 1\\n    '"
            ]
          },
          "metadata": {
            "tags": []
          },
          "execution_count": 30
        }
      ]
    },
    {
      "cell_type": "code",
      "metadata": {
        "id": "24ylkranLraI",
        "outputId": "37b53290-7440-4025-ffaf-559b97988688",
        "colab": {
          "base_uri": "https://localhost:8080/",
          "height": 559
        }
      },
      "source": [
        "vf_matrix = np.transpose(np.reshape(grid.V_FUNCTION, (grid.N_ROWS, grid.N_COLUMNS)))\n",
        "\n",
        "conf = {\n",
        "    'title': 'Policy Iteration Value Function',\n",
        "}\n",
        "plot_heatmap(vf_matrix, **conf)\n",
        "\n",
        "\n",
        "conf= {\n",
        "    'title': '# of dif. actions between consecutive policies',\n",
        "    'xlabel': 'Iterations'\n",
        "}\n",
        "plot_deltas(a_inc, **conf)\n",
        "\n"
      ],
      "execution_count": null,
      "outputs": [
        {
          "output_type": "display_data",
          "data": {
            "image/png": "[encoded data removed]",
            "text/plain": [
              "<Figure size 432x288 with 2 Axes>"
            ]
          },
          "metadata": {
            "tags": [],
            "needs_background": "light"
          }
        },
        {
          "output_type": "display_data",
          "data": {
            "image/png": "[encoded data removed]",
            "text/plain": [
              "<Figure size 432x288 with 1 Axes>"
            ]
          },
          "metadata": {
            "tags": [],
            "needs_background": "light"
          }
        }
      ]
    },
    {
      "cell_type": "markdown",
      "metadata": {
        "id": "ivy7vyEGrPjR"
      },
      "source": [
        ""
      ]
    },
    {
      "cell_type": "code",
      "metadata": {
        "id": "IBpxT28fR0eS",
        "outputId": "ca4368c8-d396-4c6b-d232-01a309da5de0",
        "colab": {
          "base_uri": "https://localhost:8080/",
          "height": 290
        }
      },
      "source": [
        "plot_arrows(actions_list, grid.ACTIONS)"
      ],
      "execution_count": null,
      "outputs": [
        {
          "output_type": "display_data",
          "data": {
            "image/png": "[encoded data removed]",
            "text/plain": [
              "<Figure size 1440x432 with 4 Axes>"
            ]
          },
          "metadata": {
            "tags": [],
            "needs_background": "light"
          }
        }
      ]
    },
    {
      "cell_type": "markdown",
      "metadata": {
        "id": "8KKf7jiPs6Ok"
      },
      "source": [
        "## VALUE ITERATION"
      ]
    },
    {
      "cell_type": "code",
      "metadata": {
        "id": "QCNrl1wns3EX"
      },
      "source": [
        "grid = Grid()\n",
        "zeta = grid.ZETA_MAX + 1\n",
        "iter = 0\n",
        "v_incr = []\n",
        "a_inc = []\n",
        "\n",
        "while zeta > grid.ZETA_MAX and iter < grid.ITER_MAX + 1:\n",
        "    ac_dif = 0\n",
        "    vm_aux = grid.V_FUNCTION.copy()\n",
        "\n",
        "    # 7.TODO: Program Value Iteration Algorithm (do NOT make use of policy_evaluation function)\n",
        "\n",
        "\n",
        "    for s in range(1,grid.N_STATES + 1):\n",
        "      A = np.zeros(grid.N_ACTIONS)\n",
        "      for a in range(grid.N_ACTIONS):\n",
        "        next_state, reward = grid.next_position(s, a)\n",
        "        A[a] += (reward + grid.GAMMA*grid.V_FUNCTION[next_state-1])\n",
        "      best_action_value = np.max(A)\n",
        "      grid.V_FUNCTION[s-1] = best_action_value\n",
        "      \n",
        "\n",
        "\n",
        "#    a_inc.append(ac_dif)                                # Number of actions taken differently from previous iteration\n",
        "    zeta = np.max(np.abs(grid.V_FUNCTION - vm_aux))     # Compute the difference of the state-values\n",
        "    v_incr.append(zeta)                                 # Store the difference in v_incr list\n",
        "    iter += 1\n",
        "\n",
        "\n",
        "  \n",
        "    for s in range(1,grid.N_STATES + 1):\n",
        "      old_action = np.argmax(grid.POLICY[s-1])\n",
        "        \n",
        "      A = np.zeros(grid.N_ACTIONS)\n",
        "      for a in range(grid.N_ACTIONS):\n",
        "        next_state, reward = grid.next_position(s, a)\n",
        "        A[a] += (reward + grid.GAMMA*grid.V_FUNCTION[next_state-1])\n",
        "          \n",
        "      best_a = np.argmax(A)\n",
        "    \n",
        "      if old_action != best_a:\n",
        "        ac_dif += 1\n",
        "  # Always take the best action  \n",
        "      grid.POLICY[s-1,best_a] = 1.0\n",
        "\n",
        "    a_inc.append(ac_dif)"
      ],
      "execution_count": null,
      "outputs": []
    },
    {
      "cell_type": "code",
      "metadata": {
        "id": "cw9p94h3K1gD",
        "outputId": "38b28ab1-6229-4f9e-8326-c7164a149903",
        "colab": {
          "base_uri": "https://localhost:8080/",
          "height": 837
        }
      },
      "source": [
        "vf_matrix = np.transpose(np.reshape(grid.V_FUNCTION, (grid.N_ROWS, grid.N_COLUMNS)))\n",
        "\n",
        "conf = {\n",
        "    'title': 'Value Iteration Value Function',\n",
        "}\n",
        "plot_heatmap(vf_matrix, **conf)\n",
        "\n",
        "\n",
        "conf= {\n",
        "    'title': '# of dif. actions between consecutive policies',\n",
        "    'xlabel': 'Iterations'\n",
        "}\n",
        "plot_deltas(a_inc, **conf)\n",
        "\n",
        "conf= {\n",
        "    'title': 'VF Incremental',\n",
        "    'xlabel': 'Iterations'\n",
        "}\n",
        "plot_deltas(v_incr, **conf)\n"
      ],
      "execution_count": null,
      "outputs": [
        {
          "output_type": "display_data",
          "data": {
            "image/png": "[encoded data removed]",
            "text/plain": [
              "<Figure size 432x288 with 2 Axes>"
            ]
          },
          "metadata": {
            "tags": [],
            "needs_background": "light"
          }
        },
        {
          "output_type": "display_data",
          "data": {
            "image/png": "[encoded data removed]",
            "text/plain": [
              "<Figure size 432x288 with 1 Axes>"
            ]
          },
          "metadata": {
            "tags": [],
            "needs_background": "light"
          }
        },
        {
          "output_type": "display_data",
          "data": {
            "image/png": "[encoded data removed]",
            "text/plain": [
              "<Figure size 432x288 with 1 Axes>"
            ]
          },
          "metadata": {
            "tags": [],
            "needs_background": "light"
          }
        }
      ]
    },
    {
      "cell_type": "code",
      "metadata": {
        "id": "p0-i0vkZ5ui2",
        "outputId": "e0584a68-6d67-44f6-c2b7-e612da8bef1a",
        "colab": {
          "base_uri": "https://localhost:8080/",
          "height": 264
        }
      },
      "source": [
        "conf= {\n",
        "    'title': 'Optimal Policy'\n",
        "}\n",
        "\n",
        "actions = []\n",
        "for s in range(1, grid.N_STATES + 1):\n",
        "    actions.append(np.argmax(grid.POLICY[s-1]))\n",
        "\n",
        "action_arrows = np.transpose(np.array(actions).reshape(grid.N_ROWS,grid.N_COLUMNS))\n",
        "plot_arrow(action_arrows, grid.ACTIONS, **conf)"
      ],
      "execution_count": null,
      "outputs": [
        {
          "output_type": "display_data",
          "data": {
            "image/png": "[encoded data removed]",
            "text/plain": [
              "<Figure size 432x288 with 1 Axes>"
            ]
          },
          "metadata": {
            "tags": [],
            "needs_background": "light"
          }
        }
      ]
    },
    {
      "cell_type": "code",
      "metadata": {
        "id": "CR7zdiC7Q9GO",
        "outputId": "fbfd4bc5-2643-4e58-d0f2-452278b5b1a3",
        "colab": {
          "base_uri": "https://localhost:8080/",
          "height": 50
        }
      },
      "source": [
        " testv = [(6, 10, 10), (16, 18, 5)]\n",
        " print(testv[0][1])\n",
        " inte = np.zeros(3)\n",
        "inte[2] = testv[0][1]\n",
        "print(inte[0])"
      ],
      "execution_count": null,
      "outputs": [
        {
          "output_type": "stream",
          "text": [
            "10\n",
            "0.0\n"
          ],
          "name": "stdout"
        }
      ]
    },
    {
      "cell_type": "markdown",
      "metadata": {
        "id": "p-mZtFxootyH"
      },
      "source": [
        "There, in Policy Iteration, we can see that the number of chose actions between consecutive policies converge near 2 iterations. Also, after few (3) iterations, the policy converge. But commonly Policy evaluation is costly for a computer due to the large state-actions sets and the complexity of solving the Iteratively Bellman equation. Still being cheaper than solving applying the Bellman Optimal Operator.\n",
        "\n",
        "So we are using the Value Iteration.In this case we can see we use more iterations to find the optimal Value Function so it converges slowly than Policy Iteration. But as we can see it converges near 5-7 iterations and the # of different actions showed has a similar performance as the previous one in terms of iteration but also it shows that the initial # is greatest in Policy Iteration.\n"
      ]
    }
  ]
}